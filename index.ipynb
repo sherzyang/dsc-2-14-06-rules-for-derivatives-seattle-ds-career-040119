{
 "cells": [
  {
   "cell_type": "markdown",
   "metadata": {},
   "source": [
    "# Rules for Derivatives"
   ]
  },
  {
   "cell_type": "markdown",
   "metadata": {},
   "source": [
    "## Introduction"
   ]
  },
  {
   "cell_type": "markdown",
   "metadata": {},
   "source": [
    "In the previous lesson, we calculated the derivative by changing our delta to see the convergence around a number as reflected in the table above.  However, mathematicians have derived shortcuts to calculate the derivative. \n",
    "You'll learn about these shortcuts in this lesson!"
   ]
  },
  {
   "cell_type": "markdown",
   "metadata": {},
   "source": [
    "## Objectives\n",
    "\n",
    "You will be able to:"
   ]
  },
  {
   "cell_type": "markdown",
   "metadata": {},
   "source": [
    "* Understand the rules for taking the derivative of each term\n",
    "* Understand how to take the derivative of a function "
   ]
  },
  {
   "cell_type": "markdown",
   "metadata": {},
   "source": [
    "## Review of derivatives"
   ]
  },
  {
   "cell_type": "markdown",
   "metadata": {},
   "source": [
    "From previous lessons, you know that the derivative is the instantaneous rate of change of a function.  We said that the derivative of a function at a certain point is just the slope of the function at that point.  And to calculate that slope of the function at a given point, we make $\\Delta x$ value smaller until it approaches zero, and see what our $ \\dfrac{\\Delta f}{\\Delta x} $ converges upon.\n",
    "\n",
    "For example, we saw the following table: "
   ]
  },
  {
   "cell_type": "markdown",
   "metadata": {},
   "source": [
    "| $ \\Delta x $        | $ \\displaystyle \\frac{\\Delta y}{\\Delta x} $|\n",
    "| ------------- |:-------------:|\n",
    "| 1      | 5      |\n",
    "| .1      | 4.1|\n",
    "| .01 | 4.01     |\n",
    "| .001 | 4.001      |\n"
   ]
  },
  {
   "cell_type": "markdown",
   "metadata": {},
   "source": [
    "This convergence around one number is called the **limit **.  And we can describe what we see in the above table as the expression: \n",
    "\n",
    "\n",
    " $$ f'(2) = \\lim_{\\Delta x\\to0} \\dfrac{\\Delta f}{\\Delta x} = 4  $$\n",
    "\n",
    "We read this as the limit of $\\dfrac{\\Delta f}{\\Delta x} $ as  $ \\Delta x $ approaches zero equals 4.  So, in general our definition of the derivative is:\n",
    "\n",
    "$$ f'(x) = \\lim_{\\Delta x\\to0} \\frac{\\Delta f}{\\Delta x}  = \\lim_{h\\to0} \\frac{f(x + h) - f(x)}{h} $$"
   ]
  },
  {
   "cell_type": "markdown",
   "metadata": {},
   "source": [
    "## Rules for calculating the derivative"
   ]
  },
  {
   "cell_type": "markdown",
   "metadata": {},
   "source": [
    "Derivative rules allow us not just to evaluate the derivative at a single point, as we have done previously, but across any value of $x$ of the function. The most important rules for derivatives are classified in three groups:\n",
    "- The power rule\n",
    "- The constant factor rule\n",
    "- The addition rule"
   ]
  },
  {
   "cell_type": "markdown",
   "metadata": {},
   "source": [
    "### The power rule\n",
    "\n",
    "The first rule for us to learn is the power rule.  The power rule is expressed as the following.  Given the following:\n",
    "\n",
    "$$f(x) = x^r $$\n",
    "\n",
    "Then, the derivative is: \n",
    "$$ f'(x) = r*x^{r-1} $$\n",
    "\n",
    "This says that if a variable, $x$, is raised to a exponent $r$, then the derivative of that function is the exponent $r$ multiplied by the variable, with the variable raised to the original exponent minus one.  \n",
    "\n",
    "Let's see this by way of example, with the function, $f(x) = 6*x $.  Remember that we originally calculated the derivative with our formula: \n",
    "\n",
    "$$ f'(x) = \\lim_{h\\to0} \\frac{f(x + h) - f(x)}{h} $$\n",
    "\n",
    "$$ f'(4) = \\lim_{h\\to0} \\frac{f(4 + h) - f(4)}{h} = 6 $$\n",
    "\n",
    "$$ f'(8) = \\lim_{h\\to0} \\frac{f(8 + h) - f(8)}{h} = 6 $$\n",
    "\n",
    "We saw that our rate of change of our linear function $f(x) = 6x $ was always 6.  Since the rate of change is constant for linear functions, the derivative was the same across all values of $x$."
   ]
  },
  {
   "cell_type": "code",
   "execution_count": 2,
   "metadata": {},
   "outputs": [
    {
     "data": {
      "image/png": "[encoded data removed]",
      "text/plain": [
       "<Figure size 540x396 with 1 Axes>"
      ]
     },
     "metadata": {
      "needs_background": "light"
     },
     "output_type": "display_data"
    }
   ],
   "source": [
    "import matplotlib.pyplot as plt\n",
    "import numpy as np\n",
    "\n",
    "def jog(miles):\n",
    "    return 6*miles\n",
    "\n",
    "fig, ax = plt.subplots(figsize=(7.5,5.5))\n",
    "\n",
    "x = np.linspace(0, 6, 7)\n",
    "c1= np.linspace(1,2,20)\n",
    "c2= np.linspace(4,5,20)\n",
    "\n",
    "plt.plot(x, jog(x), label = \"distance given # hours\", marker=\"|\", markersize=12)\n",
    "plt.plot(c1, jog(c1), label = \"slope = 6\", color=\"green\")\n",
    "plt.plot(c2, jog(c2), label = \"slope = 6\", color=\"red\")\n",
    "\n",
    "ax.legend(loc='upper left', fontsize='large')\n",
    "plt.ylabel(\"distance in miles\")\n",
    "plt.xlabel(\"number of hours\")\n",
    "plt.show()"
   ]
  },
  {
   "cell_type": "markdown",
   "metadata": {},
   "source": [
    "Now let's see how this works with our power rule: \n",
    "\n",
    "$$f(x) = 6*x = 6*x^{1} $$\n",
    "\n",
    "Now applying our rule that for a function with \n",
    "\n",
    "$$f(x) = x^r $$ \n",
    "\n",
    "$$ f'(x) = r*x^{r-1} $$ \n",
    "\n",
    "we see that in this case $r = 1$.  So applying our power rule we have: \n",
    "\n",
    "$$f'(x) = r*6*x^{r-1} = 1*6*x^{1-1} = 6*x^{0} = 6 $$\n",
    "\n",
    "Great!  This is aligns with what our graph shows, as well as our calculation using the original definition of the derivative, $\\displaystyle\\lim_{\\Delta x\\to0} \\dfrac{\\Delta y}{\\Delta x}$ ."
   ]
  },
  {
   "cell_type": "markdown",
   "metadata": {},
   "source": [
    "*Another example*\n",
    "\n",
    "Let's apply the power rule to another example which we used before: the example where the runner starts a race. Here:\n",
    "\n",
    "$$f(x) = x^2 $$\n",
    "\n",
    "$$f'(x) = 2*x^{2-1} = 2*x^1 = 2*x $$\n",
    "\n",
    "Think about what our calculation for $f'(x)$ is saying about our function.  It says, for our function $f(x) = x^2$, a small change in $x$ produces an increase in $f(x) $ equal to 2 times the $ x $ value.  Or, in other words:\n",
    "$$ f'(x) = 2*x $$\n",
    "\n",
    "* So when $ x = 2$ then $f'(2) = 2*2 = 4 $\n",
    "* When $ x = 5 $, then $ f'(5) = 2*5 = 10$\n",
    "* And when $ x = 10 $, then $ f'(10) = 2*10 = 20$. "
   ]
  },
  {
   "cell_type": "markdown",
   "metadata": {},
   "source": [
    "Note that $x$ represents the number of seconds our runner has run, so negative $x$ doesn't make sense here. But there are numerous examples where input variables can be negative, and the same rules are simply applicable here as well. For example, imagine the same function where $x$ represents temperatures."
   ]
  },
  {
   "cell_type": "markdown",
   "metadata": {},
   "source": [
    "- when $x=-2$, then $f'(-2) = -4$\n",
    "- when $x=-7$, then $f'(-7)=-14$"
   ]
  },
  {
   "cell_type": "markdown",
   "metadata": {},
   "source": [
    "We won't prove the power rule here.  But hopefully you can see that it does seem to fit our graph of the function $f(x) = x^2$.  Let's take a look."
   ]
  },
  {
   "cell_type": "code",
   "execution_count": 2,
   "metadata": {},
   "outputs": [
    {
     "data": {
      "image/png": "[encoded data removed]",
      "text/plain": [
       "<matplotlib.figure.Figure at 0x10e42fa20>"
      ]
     },
     "metadata": {},
     "output_type": "display_data"
    }
   ],
   "source": [
    "def f(x):\n",
    "    return np.square(x)\n",
    "fig, ax = plt.subplots(figsize=(9.5,6.5))\n",
    "\n",
    "x = np.linspace(-3, 6, 100)\n",
    "c1= np.linspace(1.5,2.5,20)\n",
    "c2= np.linspace(4.5,5.5,20)\n",
    "c3= np.linspace(-2.5,-1.5,20)\n",
    "\n",
    "plt.plot(x, f(x), label = \"distance given # seconds\")\n",
    "\n",
    "x_dev = np.linspace(1.5, 3.2, 100)\n",
    "a1 = 2\n",
    "a2 = 5\n",
    "a3 = -2\n",
    "delta_a=0.001\n",
    "fprime1 = (f(a1+delta_a)-f(a1))/delta_a \n",
    "fprime2 = (f(a2+delta_a)-f(a2))/delta_a \n",
    "fprime3 = (f(a3+delta_a)-f(a3))/delta_a \n",
    "\n",
    "tan1 = f(a1)+fprime1*(c1-a1)\n",
    "tan2 = f(a2)+fprime2*(c2-a2)\n",
    "tan3 = f(a3)+fprime3*(c3-a3)\n",
    "\n",
    "# plot of the function and the tangent\n",
    "plt.plot(c1, tan1, color = \"green\", label=\"slope = 4\")\n",
    "plt.plot(c2, tan2, color = \"red\", label=\"slope = 10\")\n",
    "plt.plot(c3, tan3, color = \"orange\", label=\"slope = -4\")\n",
    "\n",
    "ax.legend(loc='upper left', fontsize='large')\n",
    "\n",
    "plt.ylabel(\"distance in feet\")\n",
    "plt.xlabel(\"number of seconds\")\n",
    "plt.show()"
   ]
  },
  {
   "cell_type": "markdown",
   "metadata": {},
   "source": [
    "It seems reasonable that the slope of the line tangent to a curve is $2*x$.  So our power rule for derivatives looks good."
   ]
  },
  {
   "cell_type": "markdown",
   "metadata": {},
   "source": [
    "### The constant factor rule"
   ]
  },
  {
   "cell_type": "markdown",
   "metadata": {},
   "source": [
    "After learning the power rule, the constant factor is a breeze.  The constant factor addresses how to take the derivative of a function multiplied by a constant. \n",
    "\n",
    "So in the above example, we have our function of $f(x) = 6*x$.  Now, the derivative of that function\n",
    "\n",
    "$$f'(x) = 6 * \\frac{\\Delta f}{\\Delta x} $$\n",
    "\n",
    "Applying the power rule, we know that $ \\frac{\\Delta f}{\\Delta x}x^1 = x^{1-1} = 1 $, so we have: \n",
    "\n",
    "$$f'(x) = 6 * \\frac{\\Delta f}{\\Delta x}x = 6*1 = 6$$\n",
    "\n",
    "In the general case, we can say, consider the function $a*f(x)$ where $a$ is a constant (that is, is a number and not a variable).  Then \n",
    "\n",
    "$$\\frac{\\Delta f}{\\Delta x}(a*f(x)) = a * \\frac{\\Delta f}{\\Delta x}*f(x) $$  \n",
    "\n",
    "> Now, don't let the fancy equations above confuse you.  The rule simply says if a variable is multiplied by a constant (i.e. a number), then to take the derivative of that term, apply our familiar power rule to the variable and multiply the variable by that same constant.\n",
    "\n",
    "So given the function: \n",
    "\n",
    "$$f(x) = 2x^2 $$\n",
    "\n",
    "\n",
    "$$f'(x) = 2*\\frac{\\Delta f}{\\Delta x} x^{2} = 2*2*x^{2-1} = 4x^1 = 4x $$\n",
    "\n",
    "That's the constant factor rule in action."
   ]
  },
  {
   "cell_type": "markdown",
   "metadata": {},
   "source": [
    "### The addition rule"
   ]
  },
  {
   "cell_type": "markdown",
   "metadata": {},
   "source": [
    "So far, all of our functions consisted of only one term.  Remember that a term is a constant or variable that is separated by a plus or minus sign.  For example, the function $f(x)$ below has three terms:\n",
    "    \n",
    "$ f(x) = 4x^3 - x^2 + 3x $\n",
    "\n",
    "To take a derivative of a function that has multiple terms, simply take the derivative of each of the terms individually.  So for the function above, \n",
    "\n",
    "$$ f(x) = 4x^3 - x^2 + 3x $$\n",
    "\n",
    "$$ f'(x) = 12x^2 - 2x + 3  $$  \n",
    "\n",
    "Do you see what we did there?  We simply applied our previous rules to each of the terms individually and continued to add or subtract the terms accordingly."
   ]
  },
  {
   "cell_type": "markdown",
   "metadata": {},
   "source": [
    "## Derivatives Drill"
   ]
  },
  {
   "cell_type": "markdown",
   "metadata": {},
   "source": [
    "Let's take the last few lines of this lesson to practice these derivative rules."
   ]
  },
  {
   "cell_type": "markdown",
   "metadata": {},
   "source": [
    "$$f(x) = 3x^5$$\n",
    "\n",
    "$$g(x) = 10x$$\n",
    "\n",
    "$$ z(x) = 10 $$"
   ]
  },
  {
   "cell_type": "markdown",
   "metadata": {},
   "source": [
    "What are the derivatives of these respective functions?\n",
    "\n",
    "> Take some time to think through it.  \n",
    "\n",
    "> Even a pen and paper could be in order.\n",
    "\n",
    "> Ok, maybe the pen is too far away...Time for the answers."
   ]
  },
  {
   "cell_type": "markdown",
   "metadata": {},
   "source": [
    "$$f(x) = 3x^5$$\n",
    "$$f'(x) = 15x^4$$\n",
    "\n",
    "$$g(x) = 10x$$\n",
    "$$g'(x) = 10$$\n",
    "\n",
    "$$ z(x) = 10  $$\n",
    "$$ z(x) = 10 * (x^0) $$\n",
    "$$ z'(x) = 0*10x^{0-1} = 0 $$"
   ]
  },
  {
   "cell_type": "markdown",
   "metadata": {},
   "source": [
    "So as you can see, we are just applying our rule: \n",
    "\n",
    "$$f(x) = x^r $$ \n",
    "\n",
    "$$ f'(x) = r*x^{r-1} $$ \n",
    "\n",
    "And note that whenever we take the derivative of a constant like the number 10, then the derivative of that constant is 0. This also makes sense when thinking of this visually, as the slope of a constant function is 0!"
   ]
  },
  {
   "cell_type": "markdown",
   "metadata": {},
   "source": [
    "### Evaluating derivatives"
   ]
  },
  {
   "cell_type": "markdown",
   "metadata": {},
   "source": [
    "Let's evaluate $f'(x)$, $g'(x)$ and $z'(x)$, each at the value where $x = 3$."
   ]
  },
  {
   "cell_type": "markdown",
   "metadata": {},
   "source": [
    "Are you able to determine what the derivatives of each of these functions each will equal when $x = 3$?  We simply substitute x for 3, whenever we see $x$."
   ]
  },
  {
   "cell_type": "markdown",
   "metadata": {},
   "source": [
    "So:\n",
    "\n",
    "$$f'(3) = 15x^4 = 15*3^4 = 15*81 = 1215 $$\n",
    "\n",
    "$$g'(3) = 10 = 10 $$\n",
    "\n",
    "$$z'(3) = 0 = 0 $$"
   ]
  },
  {
   "cell_type": "markdown",
   "metadata": {},
   "source": [
    "### Try again"
   ]
  },
  {
   "cell_type": "markdown",
   "metadata": {},
   "source": [
    "Let's try a couple more derivatives."
   ]
  },
  {
   "cell_type": "markdown",
   "metadata": {},
   "source": [
    "$$f(x) = 3x^3 + 8x + 12$$\n",
    "\n",
    "$$g(x) = 12x^2 + 4x^2 + 2$$"
   ]
  },
  {
   "cell_type": "markdown",
   "metadata": {},
   "source": [
    "Ok, now for the derivatives. "
   ]
  },
  {
   "cell_type": "markdown",
   "metadata": {},
   "source": [
    " Let's see it!"
   ]
  },
  {
   "cell_type": "markdown",
   "metadata": {},
   "source": [
    "$$f(x) = 3x^3 + 8x + 12$$\n",
    "$$f'(x) = 9x^2 + 8 $$\n",
    "\n",
    "$$g(x) = 12x^2 + 4x^2 + 2$$\n",
    "$$g'(x) = 24x + 8x = 32x$$"
   ]
  },
  {
   "cell_type": "markdown",
   "metadata": {},
   "source": [
    "## Summary"
   ]
  },
  {
   "cell_type": "markdown",
   "metadata": {},
   "source": [
    "In this section, we learned a different way for calculating the derivative.  The derivative of a function at a given point is still the instantaneous rate of change of that function at that point. Now we have three rules that allow us to calculate our derivative.  The most tricky of these is the power rule, which says that if $f(x) = x^r$, then $ f'(x) = r * x^{r-1} $.\n",
    "\n",
    "Using our derivative rules, we can now calculate the derivative across the entire function.  So the derivative of $f(x) = 6x $ is always 6, and the derivative of $f(x) = x^2 $ is $f(x) = 2x $.  To evaluate our derivative at a specific value of $x$, we simply plug that value of $x$ into our derivative.  When $f'(x) = 2x$, then $f'(2) = 2*2$.  "
   ]
  }
 ],
 "metadata": {
  "kernelspec": {
   "display_name": "Python 3",
   "language": "python",
   "name": "python3"
  },
  "language_info": {
   "codemirror_mode": {
    "name": "ipython",
    "version": 3
   },
   "file_extension": ".py",
   "mimetype": "text/x-python",
   "name": "python",
   "nbconvert_exporter": "python",
   "pygments_lexer": "ipython3",
   "version": "3.6.6"
  }
 },
 "nbformat": 4,
 "nbformat_minor": 2
}
